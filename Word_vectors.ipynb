{
 "cells": [
  {
   "cell_type": "code",
   "execution_count": 1,
   "metadata": {},
   "outputs": [],
   "source": [
    "import pandas as pd\n",
    "import numpy as np\n",
    "from gensim.models.word2vec import Word2Vec\n",
    "from gensim.utils import simple_preprocess"
   ]
  },
  {
   "cell_type": "code",
   "execution_count": 2,
   "metadata": {},
   "outputs": [],
   "source": [
    "# Reading in .csv files\n",
    "real_wordvec = pd.read_csv('./data/wordvec_data/real_wordvec.csv')\n",
    "fake_wordvec = pd.read_csv('./data/wordvec_data/fake_wordvec.csv')\n",
    "est_wordvec = pd.read_csv('./data/wordvec_data/est_wordvec.csv')\n",
    "right_wordvec = pd.read_csv('./data/wordvec_data/right_wordvec.csv')\n",
    "left_wordvec = pd.read_csv('./data/wordvec_data/left_wordvec.csv')"
   ]
  },
  {
   "cell_type": "code",
   "execution_count": 3,
   "metadata": {},
   "outputs": [],
   "source": [
    "# Creating processed corpora for Word2Vec analysis\n",
    "\n",
    "real_corpus = []\n",
    "for i in range(len(real_wordvec['0'])):\n",
    "    real_corpus.append(simple_preprocess(real_wordvec['0'][i]))\n",
    "    \n",
    "fake_corpus = []\n",
    "for i in range(len(fake_wordvec['0'])):\n",
    "    fake_corpus.append(simple_preprocess(fake_wordvec['0'][i]))\n",
    "    \n",
    "est_corpus = []\n",
    "for i in range(len(est_wordvec['0'])):\n",
    "    est_corpus.append(simple_preprocess(est_wordvec['0'][i]))\n",
    "\n",
    "right_corpus = []\n",
    "for i in range(len(right_wordvec['0'])):\n",
    "    right_corpus.append(simple_preprocess(right_wordvec['0'][i]))\n",
    "\n",
    "left_corpus = []\n",
    "for i in range(len(left_wordvec['0'])):\n",
    "    left_corpus.append(simple_preprocess(left_wordvec['0'][i]))"
   ]
  },
  {
   "cell_type": "code",
   "execution_count": 5,
   "metadata": {},
   "outputs": [],
   "source": [
    "# Creating Word2Vec model for 'real news' article bodies\n",
    "\n",
    "real_W2V_model = Word2Vec(real_corpus,  # Corpus of data.\n",
    "                          size=100,     # Dimensionality of word vectors\n",
    "                          window=8,     # Amount of \"context words\"\n",
    "                          min_count=1,  # Ignores words below this threshold\n",
    "                          sg=1,         # SG = 1 for skip-grams\n",
    "                          workers=4)"
   ]
  },
  {
   "cell_type": "code",
   "execution_count": 6,
   "metadata": {},
   "outputs": [],
   "source": [
    "# Creating Word2Vec model for 'fake news' article bodies\n",
    "\n",
    "fake_W2V_model = Word2Vec(fake_corpus,\n",
    "                          size=100,\n",
    "                          window=8,\n",
    "                          min_count=1,\n",
    "                          sg=1,\n",
    "                          workers=4)"
   ]
  },
  {
   "cell_type": "code",
   "execution_count": 7,
   "metadata": {},
   "outputs": [],
   "source": [
    "# Creating Word2Vec model for establishment article bodies\n",
    "\n",
    "est_W2V_model = Word2Vec(est_corpus,\n",
    "                         size=100,\n",
    "                         window=8,\n",
    "                         min_count=1,\n",
    "                         sg=1,\n",
    "                         workers=4)"
   ]
  },
  {
   "cell_type": "code",
   "execution_count": 8,
   "metadata": {},
   "outputs": [],
   "source": [
    "# Creating Word2Vec model for establishment article bodies\n",
    "\n",
    "right_W2V_model = Word2Vec(right_corpus,\n",
    "                           size=100,\n",
    "                           window=8,\n",
    "                           min_count=1,\n",
    "                           sg=1,\n",
    "                           workers=4)"
   ]
  },
  {
   "cell_type": "code",
   "execution_count": 9,
   "metadata": {},
   "outputs": [],
   "source": [
    "# Creating Word2Vec model for establishment article bodies\n",
    "\n",
    "left_W2V_model = Word2Vec(left_corpus,\n",
    "                          size=100,\n",
    "                          window=8,\n",
    "                          min_count=1,\n",
    "                          sg=1,\n",
    "                          workers=4)"
   ]
  },
  {
   "cell_type": "code",
   "execution_count": 87,
   "metadata": {},
   "outputs": [
    {
     "name": "stderr",
     "output_type": "stream",
     "text": [
      "/Users/mikhaillenko/anaconda3/lib/python3.6/site-packages/ipykernel_launcher.py:1: DeprecationWarning: Call to deprecated `most_similar` (Method will be removed in 4.0.0, use self.wv.most_similar() instead).\n",
      "  \"\"\"Entry point for launching an IPython kernel.\n"
     ]
    },
    {
     "data": {
      "text/html": [
       "<div>\n",
       "<style scoped>\n",
       "    .dataframe tbody tr th:only-of-type {\n",
       "        vertical-align: middle;\n",
       "    }\n",
       "\n",
       "    .dataframe tbody tr th {\n",
       "        vertical-align: top;\n",
       "    }\n",
       "\n",
       "    .dataframe thead th {\n",
       "        text-align: right;\n",
       "    }\n",
       "</style>\n",
       "<table border=\"1\" class=\"dataframe\">\n",
       "  <thead>\n",
       "    <tr style=\"text-align: right;\">\n",
       "      <th></th>\n",
       "      <th>term</th>\n",
       "      <th>cos_sim</th>\n",
       "    </tr>\n",
       "  </thead>\n",
       "  <tbody>\n",
       "    <tr>\n",
       "      <th>0</th>\n",
       "      <td>donald</td>\n",
       "      <td>0.853850</td>\n",
       "    </tr>\n",
       "    <tr>\n",
       "      <th>1</th>\n",
       "      <td>presidency</td>\n",
       "      <td>0.744218</td>\n",
       "    </tr>\n",
       "    <tr>\n",
       "      <th>2</th>\n",
       "      <td>groundless</td>\n",
       "      <td>0.743976</td>\n",
       "    </tr>\n",
       "    <tr>\n",
       "      <th>3</th>\n",
       "      <td>cred</td>\n",
       "      <td>0.727032</td>\n",
       "    </tr>\n",
       "    <tr>\n",
       "      <th>4</th>\n",
       "      <td>backchannel</td>\n",
       "      <td>0.720780</td>\n",
       "    </tr>\n",
       "    <tr>\n",
       "      <th>5</th>\n",
       "      <td>collude</td>\n",
       "      <td>0.717873</td>\n",
       "    </tr>\n",
       "    <tr>\n",
       "      <th>6</th>\n",
       "      <td>unequivocally</td>\n",
       "      <td>0.717174</td>\n",
       "    </tr>\n",
       "    <tr>\n",
       "      <th>7</th>\n",
       "      <td>moderating</td>\n",
       "      <td>0.716822</td>\n",
       "    </tr>\n",
       "    <tr>\n",
       "      <th>8</th>\n",
       "      <td>deviated</td>\n",
       "      <td>0.716177</td>\n",
       "    </tr>\n",
       "    <tr>\n",
       "      <th>9</th>\n",
       "      <td>thankyoumaddow</td>\n",
       "      <td>0.713455</td>\n",
       "    </tr>\n",
       "  </tbody>\n",
       "</table>\n",
       "</div>"
      ],
      "text/plain": [
       "             term   cos_sim\n",
       "0          donald  0.853850\n",
       "1      presidency  0.744218\n",
       "2      groundless  0.743976\n",
       "3            cred  0.727032\n",
       "4     backchannel  0.720780\n",
       "5         collude  0.717873\n",
       "6   unequivocally  0.717174\n",
       "7      moderating  0.716822\n",
       "8        deviated  0.716177\n",
       "9  thankyoumaddow  0.713455"
      ]
     },
     "execution_count": 87,
     "metadata": {},
     "output_type": "execute_result"
    }
   ],
   "source": [
    "pd.DataFrame(left_W2V_model.most_similar(positive='trump'), columns=['term','cos_sim'])"
   ]
  },
  {
   "cell_type": "code",
   "execution_count": 76,
   "metadata": {},
   "outputs": [],
   "source": [
    "def get_words(positive):\n",
    "    print(f'Real News: {positive}')\n",
    "    print(pd.DataFrame(real_W2V_model.most_similar(positive=positive),\n",
    "                        columns=['_____','cos_sim']))\n",
    "    print()\n",
    "    print(f'Fake News: {positive}')\n",
    "    print(pd.DataFrame(fake_W2V_model.most_similar(positive=positive),\n",
    "                       columns=['_____','cos_sim']))\n",
    "    print()\n",
    "    print(f'Establishment News: {positive}')\n",
    "    print(pd.DataFrame(est_W2V_model.most_similar(positive=positive),\n",
    "                       columns=['_____','cos_sim']))\n",
    "    print()\n",
    "    print(f'Rightwing News: {positive}')\n",
    "    print(pd.DataFrame(right_W2V_model.most_similar(positive=positive),\n",
    "                       columns=['_____','cos_sim']))\n",
    "    print()\n",
    "    print(f'Leftwing News: {positive}')\n",
    "    print(pd.DataFrame(left_W2V_model.most_similar(positive=positive),\n",
    "                       columns=['_____','cos_sim']))"
   ]
  },
  {
   "cell_type": "code",
   "execution_count": 77,
   "metadata": {},
   "outputs": [
    {
     "name": "stdout",
     "output_type": "stream",
     "text": [
      "Real News: clinton\n",
      "          _____   cos_sim\n",
      "0       hillary  0.961000\n",
      "1           mrs  0.843157\n",
      "2  infidelities  0.793667\n",
      "3        rodham  0.786545\n",
      "4       sanders  0.769354\n",
      "5      clintons  0.739765\n",
      "6       minions  0.736551\n",
      "7       vouched  0.735214\n",
      "8         robby  0.727439\n",
      "9      anzalone  0.727180\n",
      "\n",
      "Fake News: clinton\n",
      "         _____   cos_sim\n",
      "0      hillary  0.954179\n",
      "1     clintonâ  0.830854\n",
      "2       rodham  0.808131\n",
      "3   incestuous  0.801925\n",
      "4  consigliere  0.790763\n",
      "5      herself  0.787489\n",
      "6       flotus  0.779230\n",
      "7        seedy  0.777108\n",
      "8    broadened  0.775403\n",
      "9   contending  0.774095\n",
      "\n",
      "Establishment News: clinton\n",
      "             _____   cos_sim\n",
      "0          hillary  0.946615\n",
      "1              mrs  0.892097\n",
      "2          sanders  0.782815\n",
      "3          crooked  0.769432\n",
      "4            robby  0.747385\n",
      "5    indiscretions  0.735414\n",
      "6  trustworthiness  0.734313\n",
      "7    untrustworthy  0.723849\n",
      "8             mook  0.720662\n",
      "9      excoriating  0.712704\n",
      "\n",
      "Rightwing News: clinton\n",
      "            _____   cos_sim\n",
      "0         hillary  0.941088\n",
      "1          rodham  0.794527\n",
      "2         crooked  0.746394\n",
      "3             mrs  0.727754\n",
      "4            fobs  0.725778\n",
      "5        scandals  0.725197\n",
      "6        rumsfeld  0.713625\n",
      "7  embarrassments  0.704883\n",
      "8  transgressions  0.702994\n",
      "9          sleazy  0.701624\n",
      "\n",
      "Leftwing News: clinton\n",
      "            _____   cos_sim\n",
      "0         hillary  0.971211\n",
      "1         sanders  0.793971\n",
      "2          rodham  0.774879\n",
      "3          bernie  0.764261\n",
      "4    infidelities  0.762140\n",
      "5      democratic  0.714596\n",
      "6  superdelegates  0.699515\n",
      "7       unsecured  0.693305\n",
      "8       eminently  0.691682\n",
      "9          abedin  0.691556\n"
     ]
    },
    {
     "name": "stderr",
     "output_type": "stream",
     "text": [
      "/Users/mikhaillenko/anaconda3/lib/python3.6/site-packages/ipykernel_launcher.py:3: DeprecationWarning: Call to deprecated `most_similar` (Method will be removed in 4.0.0, use self.wv.most_similar() instead).\n",
      "  This is separate from the ipykernel package so we can avoid doing imports until\n",
      "/Users/mikhaillenko/anaconda3/lib/python3.6/site-packages/ipykernel_launcher.py:7: DeprecationWarning: Call to deprecated `most_similar` (Method will be removed in 4.0.0, use self.wv.most_similar() instead).\n",
      "  import sys\n",
      "/Users/mikhaillenko/anaconda3/lib/python3.6/site-packages/ipykernel_launcher.py:11: DeprecationWarning: Call to deprecated `most_similar` (Method will be removed in 4.0.0, use self.wv.most_similar() instead).\n",
      "  # This is added back by InteractiveShellApp.init_path()\n",
      "/Users/mikhaillenko/anaconda3/lib/python3.6/site-packages/ipykernel_launcher.py:15: DeprecationWarning: Call to deprecated `most_similar` (Method will be removed in 4.0.0, use self.wv.most_similar() instead).\n",
      "  from ipykernel import kernelapp as app\n",
      "/Users/mikhaillenko/anaconda3/lib/python3.6/site-packages/ipykernel_launcher.py:19: DeprecationWarning: Call to deprecated `most_similar` (Method will be removed in 4.0.0, use self.wv.most_similar() instead).\n"
     ]
    }
   ],
   "source": [
    "get_words('clinton')"
   ]
  },
  {
   "cell_type": "code",
   "execution_count": 66,
   "metadata": {},
   "outputs": [],
   "source": [
    "def definition(like, dislike):\n",
    "    print(pd.DataFrame(real_W2V_model.most_similar(positive=[like],\n",
    "                                                   negative=[dislike])))"
   ]
  },
  {
   "cell_type": "code",
   "execution_count": 71,
   "metadata": {},
   "outputs": [
    {
     "name": "stdout",
     "output_type": "stream",
     "text": [
      "               0         1\n",
      "0        sanders  0.584468\n",
      "1        vermont  0.468204\n",
      "2            sen  0.438878\n",
      "3  berniesanders  0.425464\n",
      "4        senator  0.424054\n",
      "5          kaine  0.414550\n",
      "6     democratic  0.403020\n",
      "7       opponent  0.402263\n",
      "8        primary  0.396550\n",
      "9       delegate  0.396331\n"
     ]
    },
    {
     "name": "stderr",
     "output_type": "stream",
     "text": [
      "/Users/mikhaillenko/anaconda3/lib/python3.6/site-packages/ipykernel_launcher.py:3: DeprecationWarning: Call to deprecated `most_similar` (Method will be removed in 4.0.0, use self.wv.most_similar() instead).\n",
      "  This is separate from the ipykernel package so we can avoid doing imports until\n"
     ]
    }
   ],
   "source": [
    "definition('bernie','male')"
   ]
  },
  {
   "cell_type": "code",
   "execution_count": 59,
   "metadata": {},
   "outputs": [],
   "source": [
    "def get_analogy(x1,x2,y1):\n",
    "    print(pd.DataFrame(real_W2V_model.most_similar(positive=[x2,y1],\n",
    "                                                   negative=[x1],\n",
    "                                                   topn=3),\n",
    "                       columns=['^_____^','cos_sim']))"
   ]
  },
  {
   "cell_type": "code",
   "execution_count": 62,
   "metadata": {},
   "outputs": [
    {
     "name": "stdout",
     "output_type": "stream",
     "text": [
      "      ^_____^   cos_sim\n",
      "0      cardin  0.678174\n",
      "1      cantor  0.668918\n",
      "2  disavowing  0.666665\n"
     ]
    },
    {
     "name": "stderr",
     "output_type": "stream",
     "text": [
      "/Users/mikhaillenko/anaconda3/lib/python3.6/site-packages/ipykernel_launcher.py:4: DeprecationWarning: Call to deprecated `most_similar` (Method will be removed in 4.0.0, use self.wv.most_similar() instead).\n",
      "  after removing the cwd from sys.path.\n"
     ]
    }
   ],
   "source": [
    "get_analogy('clinton','democrat','trump')"
   ]
  },
  {
   "cell_type": "code",
   "execution_count": 55,
   "metadata": {},
   "outputs": [],
   "source": [
    "# Define analogy function.\n",
    "\n",
    "def analogy(x1,x2,y1):\n",
    "    \n",
    "    # Find the vector y2 that is closest to $x_1 + x_2 + y_2$.\n",
    "    y2 = real_W2V_model.most_similar(positive= [x2, y1],\n",
    "                                     negative = [x1]) \n",
    "    \n",
    "    # Return the result.\n",
    "    return y2"
   ]
  },
  {
   "cell_type": "code",
   "execution_count": 64,
   "metadata": {},
   "outputs": [
    {
     "name": "stdout",
     "output_type": "stream",
     "text": [
      "   ^_____^   cos_sim\n",
      "0  hillary  0.722974\n",
      "1  sanders  0.720340\n",
      "2   bernie  0.708326\n"
     ]
    },
    {
     "name": "stderr",
     "output_type": "stream",
     "text": [
      "/Users/mikhaillenko/anaconda3/lib/python3.6/site-packages/ipykernel_launcher.py:4: DeprecationWarning: Call to deprecated `most_similar` (Method will be removed in 4.0.0, use self.wv.most_similar() instead).\n",
      "  after removing the cwd from sys.path.\n"
     ]
    }
   ],
   "source": [
    "get_analogy('trump', 'cruz', 'clinton')"
   ]
  },
  {
   "cell_type": "code",
   "execution_count": 70,
   "metadata": {},
   "outputs": [
    {
     "name": "stderr",
     "output_type": "stream",
     "text": [
      "/Users/mikhaillenko/anaconda3/lib/python3.6/site-packages/ipykernel_launcher.py:7: DeprecationWarning: Call to deprecated `most_similar` (Method will be removed in 4.0.0, use self.wv.most_similar() instead).\n",
      "  import sys\n"
     ]
    },
    {
     "data": {
      "text/plain": [
       "[('bernie', 0.7321078777313232),\n",
       " ('sanders', 0.7271015644073486),\n",
       " ('ted', 0.7093454599380493),\n",
       " ('hillary', 0.6965794563293457),\n",
       " ('caucuses', 0.6947556138038635),\n",
       " ('vermont', 0.6914641857147217),\n",
       " ('iowa', 0.6832163333892822),\n",
       " ('kasich', 0.6774814128875732),\n",
       " ('toomey', 0.6667734384536743),\n",
       " ('superdelegates', 0.6628011465072632)]"
      ]
     },
     "execution_count": 70,
     "metadata": {},
     "output_type": "execute_result"
    }
   ],
   "source": [
    "analogy('trump', 'cruz', 'clinton')"
   ]
  },
  {
   "cell_type": "code",
   "execution_count": null,
   "metadata": {},
   "outputs": [],
   "source": [
    "real_W2V_model.predict_output_word()"
   ]
  },
  {
   "cell_type": "code",
   "execution_count": 73,
   "metadata": {},
   "outputs": [],
   "source": [
    "# Creating Word2Vec model for 'fake news' article bodies\n",
    "\n",
    "fake_W2V_model = Word2Vec(fake_corpora,\n",
    "                          size = 100,\n",
    "                          window = 8,\n",
    "                          min_count = 1,\n",
    "                          sg=1,\n",
    "                          workers=4)"
   ]
  },
  {
   "cell_type": "code",
   "execution_count": 74,
   "metadata": {},
   "outputs": [],
   "source": [
    "# Define analogy function.\n",
    "\n",
    "def fake_analogy(x1,x2,y1):\n",
    "    \n",
    "    # Find the vector y2 that is closest to $x_1 + x_2 + y_2$.\n",
    "    y2 = fake_W2V_model.most_similar(positive= [x2, y1],\n",
    "                                     negative = [x1]) \n",
    "    \n",
    "    # Return the result.\n",
    "    return y2"
   ]
  },
  {
   "cell_type": "code",
   "execution_count": 77,
   "metadata": {},
   "outputs": [
    {
     "name": "stderr",
     "output_type": "stream",
     "text": [
      "/Users/mikhaillenko/anaconda3/lib/python3.6/site-packages/ipykernel_launcher.py:1: DeprecationWarning: Call to deprecated `most_similar` (Method will be removed in 4.0.0, use self.wv.most_similar() instead).\n",
      "  \"\"\"Entry point for launching an IPython kernel.\n"
     ]
    },
    {
     "data": {
      "text/plain": [
       "[('slumbering', 0.9556564092636108),\n",
       " ('morphing', 0.8669085502624512),\n",
       " ('nay', 0.8609015345573425),\n",
       " ('fainting', 0.8596563339233398),\n",
       " ('unceremoniously', 0.8568920493125916),\n",
       " ('winger', 0.8543405532836914),\n",
       " ('misbehave', 0.8541936874389648),\n",
       " ('fuselage', 0.8540734052658081),\n",
       " ('spotting', 0.8513401746749878),\n",
       " ('hammerstrike', 0.851270318031311)]"
      ]
     },
     "execution_count": 77,
     "metadata": {},
     "output_type": "execute_result"
    }
   ],
   "source": [
    "fake_W2V_model.most_similar('antifa')"
   ]
  },
  {
   "cell_type": "code",
   "execution_count": 78,
   "metadata": {},
   "outputs": [
    {
     "name": "stderr",
     "output_type": "stream",
     "text": [
      "/Users/mikhaillenko/anaconda3/lib/python3.6/site-packages/ipykernel_launcher.py:1: DeprecationWarning: Call to deprecated `most_similar` (Method will be removed in 4.0.0, use self.wv.most_similar() instead).\n",
      "  \"\"\"Entry point for launching an IPython kernel.\n"
     ]
    },
    {
     "data": {
      "text/plain": [
       "[('antifascist', 0.8936547040939331),\n",
       " ('identitarian', 0.8721088767051697),\n",
       " ('inflames', 0.869750440120697),\n",
       " ('tribunes', 0.8575892448425293),\n",
       " ('effeminate', 0.8562133312225342),\n",
       " ('reframing', 0.8506422638893127),\n",
       " ('misinterpret', 0.8481342792510986),\n",
       " ('consort', 0.8456528186798096),\n",
       " ('bootleg', 0.8432168960571289),\n",
       " ('accross', 0.8430099487304688)]"
      ]
     },
     "execution_count": 78,
     "metadata": {},
     "output_type": "execute_result"
    }
   ],
   "source": [
    "real_W2V_model.most_similar('antifa')"
   ]
  },
  {
   "cell_type": "code",
   "execution_count": null,
   "metadata": {},
   "outputs": [],
   "source": []
  },
  {
   "cell_type": "code",
   "execution_count": 87,
   "metadata": {},
   "outputs": [],
   "source": [
    "est_W2V_model = Word2Vec(est_corpus,\n",
    "                         size=100,\n",
    "                         window=8,\n",
    "                         min_count=1,\n",
    "                         sg=1,\n",
    "                         workers=4)"
   ]
  },
  {
   "cell_type": "code",
   "execution_count": 88,
   "metadata": {},
   "outputs": [],
   "source": [
    "# Define analogy function.\n",
    "\n",
    "def est_analogy(x1,x2,y1):\n",
    "    \n",
    "    # Find the vector y2 that is closest to $x_1 + x_2 + y_2$.\n",
    "    y2 = est_W2V_model.most_similar(positive= [x2, y1],\n",
    "                                     negative = [x1]) \n",
    "    \n",
    "    # Return the result.\n",
    "    return y2"
   ]
  },
  {
   "cell_type": "code",
   "execution_count": 90,
   "metadata": {},
   "outputs": [
    {
     "name": "stderr",
     "output_type": "stream",
     "text": [
      "/Users/mikhaillenko/anaconda3/lib/python3.6/site-packages/ipykernel_launcher.py:7: DeprecationWarning: Call to deprecated `most_similar` (Method will be removed in 4.0.0, use self.wv.most_similar() instead).\n",
      "  import sys\n"
     ]
    },
    {
     "data": {
      "text/plain": [
       "[('donald', 0.6837036609649658),\n",
       " ('lewdly', 0.6469045281410217),\n",
       " ('groping', 0.6282551288604736),\n",
       " ('kellyanne', 0.624221920967102),\n",
       " ('pence', 0.622225284576416),\n",
       " ('gingrich', 0.6208186745643616),\n",
       " ('trumpâ', 0.6175230145454407),\n",
       " ('kyei', 0.6087804436683655),\n",
       " ('conway', 0.6012117862701416),\n",
       " ('groper', 0.5994833707809448)]"
      ]
     },
     "execution_count": 90,
     "metadata": {},
     "output_type": "execute_result"
    }
   ],
   "source": [
    "fake_analogy('obama','biden','trump')"
   ]
  },
  {
   "cell_type": "code",
   "execution_count": 91,
   "metadata": {},
   "outputs": [],
   "source": [
    "right_W2V_model = Word2Vec(right_corpus,\n",
    "                           size=100,\n",
    "                           window=8,\n",
    "                           min_count=1,\n",
    "                           sg=1,\n",
    "                           workers=4)"
   ]
  },
  {
   "cell_type": "code",
   "execution_count": 92,
   "metadata": {},
   "outputs": [],
   "source": [
    "left_W2V_model = Word2Vec(left_corpus,\n",
    "                          size=100,\n",
    "                          window=8,\n",
    "                          min_count=1,\n",
    "                          sg=1,\n",
    "                          workers=4)"
   ]
  },
  {
   "cell_type": "code",
   "execution_count": 93,
   "metadata": {},
   "outputs": [],
   "source": [
    "# Define analogy function.\n",
    "\n",
    "def left_analogy(x1,x2,y1):\n",
    "    \n",
    "    # Find the vector y2 that is closest to $x_1 + x_2 + y_2$.\n",
    "    y2 = left_W2V_model.most_similar(positive= [x2, y1],\n",
    "                                     negative = [x1]) \n",
    "    \n",
    "    # Return the result.\n",
    "    return y2"
   ]
  },
  {
   "cell_type": "code",
   "execution_count": 94,
   "metadata": {},
   "outputs": [
    {
     "name": "stderr",
     "output_type": "stream",
     "text": [
      "/Users/mikhaillenko/anaconda3/lib/python3.6/site-packages/ipykernel_launcher.py:7: DeprecationWarning: Call to deprecated `most_similar` (Method will be removed in 4.0.0, use self.wv.most_similar() instead).\n",
      "  import sys\n"
     ]
    },
    {
     "data": {
      "text/plain": [
       "[('officeholder', 0.6380375623703003),\n",
       " ('oz', 0.6140663623809814),\n",
       " ('bolduan', 0.604180634021759),\n",
       " ('retweeting', 0.6039628386497498),\n",
       " ('referencing', 0.6028333902359009),\n",
       " ('donald', 0.5978373289108276),\n",
       " ('donaldjtrumpjr', 0.5957256555557251),\n",
       " ('erstwhile', 0.5955708622932434),\n",
       " ('retweet', 0.5948001146316528),\n",
       " ('skewered', 0.5912362337112427)]"
      ]
     },
     "execution_count": 94,
     "metadata": {},
     "output_type": "execute_result"
    }
   ],
   "source": [
    "left_analogy('obama','biden','trump')"
   ]
  },
  {
   "cell_type": "code",
   "execution_count": 95,
   "metadata": {},
   "outputs": [],
   "source": [
    "# Define analogy function.\n",
    "\n",
    "def right_analogy(x1,x2,y1):\n",
    "    \n",
    "    # Find the vector y2 that is closest to $x_1 + x_2 + y_2$.\n",
    "    y2 = right_W2V_model.most_similar(positive= [x2, y1],\n",
    "                                     negative = [x1]) \n",
    "    \n",
    "    # Return the result.\n",
    "    return y2"
   ]
  },
  {
   "cell_type": "code",
   "execution_count": 96,
   "metadata": {},
   "outputs": [
    {
     "name": "stderr",
     "output_type": "stream",
     "text": [
      "/Users/mikhaillenko/anaconda3/lib/python3.6/site-packages/ipykernel_launcher.py:7: DeprecationWarning: Call to deprecated `most_similar` (Method will be removed in 4.0.0, use self.wv.most_similar() instead).\n",
      "  import sys\n"
     ]
    },
    {
     "data": {
      "text/plain": [
       "[('donald', 0.717384397983551),\n",
       " ('veep', 0.6595349907875061),\n",
       " ('presumptive', 0.6592819094657898),\n",
       " ('nominee', 0.6483389139175415),\n",
       " ('broadside', 0.6461474895477295),\n",
       " ('joe', 0.6460766792297363),\n",
       " ('mittromney', 0.6367663145065308),\n",
       " ('frontrunner', 0.6346907019615173),\n",
       " ('scarborough', 0.6263604164123535),\n",
       " ('barletta', 0.6211426258087158)]"
      ]
     },
     "execution_count": 96,
     "metadata": {},
     "output_type": "execute_result"
    }
   ],
   "source": [
    "right_analogy('obama','biden','trump')"
   ]
  },
  {
   "cell_type": "code",
   "execution_count": null,
   "metadata": {},
   "outputs": [],
   "source": []
  }
 ],
 "metadata": {
  "kernelspec": {
   "display_name": "Python 3",
   "language": "python",
   "name": "python3"
  },
  "language_info": {
   "codemirror_mode": {
    "name": "ipython",
    "version": 3
   },
   "file_extension": ".py",
   "mimetype": "text/x-python",
   "name": "python",
   "nbconvert_exporter": "python",
   "pygments_lexer": "ipython3",
   "version": "3.6.8"
  }
 },
 "nbformat": 4,
 "nbformat_minor": 2
}
