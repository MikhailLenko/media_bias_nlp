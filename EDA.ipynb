{
 "cells": [
  {
   "cell_type": "code",
   "execution_count": 1,
   "metadata": {},
   "outputs": [],
   "source": [
    "import pandas as pd\n",
    "import numpy as np\n",
    "import seaborn as sns\n",
    "import matplotlib as plt\n",
    "%matplotlib inline"
   ]
  },
  {
   "cell_type": "code",
   "execution_count": 2,
   "metadata": {},
   "outputs": [],
   "source": [
    "# Creating DataFrame for three (3) .csv files from Snapcrack's All the News dataset\n",
    "# Available here: https://www.kaggle.com/snapcrack/all-the-news\n",
    "articles_1 = pd.read_csv('./data/source_data/all-the-news/articles1.csv')\n",
    "articles_2 = pd.read_csv('./data/source_data/all-the-news/articles2.csv')\n",
    "articles_3 = pd.read_csv('./data/source_data/all-the-news/articles3.csv')"
   ]
  },
  {
   "cell_type": "code",
   "execution_count": 3,
   "metadata": {},
   "outputs": [],
   "source": [
    "# Concatenating three DataFrames into one\n",
    "articles = articles_1.append(articles_2)\n",
    "articles = articles.append(articles_3)"
   ]
  },
  {
   "cell_type": "code",
   "execution_count": 4,
   "metadata": {},
   "outputs": [],
   "source": [
    "# Dropping unneeded columns\n",
    "articles.drop(columns=['Unnamed: 0', 'id', 'author', 'date', 'year', 'month', 'url'],\n",
    "              inplace=True)"
   ]
  },
  {
   "cell_type": "code",
   "execution_count": 5,
   "metadata": {},
   "outputs": [],
   "source": [
    "# Creating label for outlet bias\n",
    "articles['label'] = articles['publication'].map(\n",
    "    {'New York Times':'establishment',\n",
    "     'Breitbart':'rightwing',\n",
    "     'CNN':'establishment',\n",
    "     'Atlantic':'leftwing',\n",
    "     'Fox News':'rightwing',\n",
    "     'Talking Points Memo':'leftwing',\n",
    "     'National Review':'rightwing',\n",
    "     'Guardian':'leftwing',\n",
    "     'Washington Post':'establishment'\n",
    "    }, na_action='ignore')"
   ]
  },
  {
   "cell_type": "code",
   "execution_count": 6,
   "metadata": {},
   "outputs": [],
   "source": [
    "# Dropping articles outside scope\n",
    "# (NaN values would obtain for outlets excluded from mapping, above)\n",
    "articles.dropna(inplace=True)"
   ]
  },
  {
   "cell_type": "code",
   "execution_count": 7,
   "metadata": {},
   "outputs": [
    {
     "data": {
      "text/html": [
       "<div>\n",
       "<style scoped>\n",
       "    .dataframe tbody tr th:only-of-type {\n",
       "        vertical-align: middle;\n",
       "    }\n",
       "\n",
       "    .dataframe tbody tr th {\n",
       "        vertical-align: top;\n",
       "    }\n",
       "\n",
       "    .dataframe thead th {\n",
       "        text-align: right;\n",
       "    }\n",
       "</style>\n",
       "<table border=\"1\" class=\"dataframe\">\n",
       "  <thead>\n",
       "    <tr style=\"text-align: right;\">\n",
       "      <th></th>\n",
       "      <th>title</th>\n",
       "      <th>content</th>\n",
       "      <th>outlet</th>\n",
       "      <th>label</th>\n",
       "    </tr>\n",
       "  </thead>\n",
       "  <tbody>\n",
       "    <tr>\n",
       "      <th>0</th>\n",
       "      <td>House Republicans Fret About Winning Their Hea...</td>\n",
       "      <td>WASHINGTON  —   Congressional Republicans have...</td>\n",
       "      <td>New York Times</td>\n",
       "      <td>establishment</td>\n",
       "    </tr>\n",
       "    <tr>\n",
       "      <th>1</th>\n",
       "      <td>Rift Between Officers and Residents as Killing...</td>\n",
       "      <td>After the bullet shells get counted, the blood...</td>\n",
       "      <td>New York Times</td>\n",
       "      <td>establishment</td>\n",
       "    </tr>\n",
       "    <tr>\n",
       "      <th>2</th>\n",
       "      <td>Tyrus Wong, ‘Bambi’ Artist Thwarted by Racial ...</td>\n",
       "      <td>When Walt Disney’s “Bambi” opened in 1942, cri...</td>\n",
       "      <td>New York Times</td>\n",
       "      <td>establishment</td>\n",
       "    </tr>\n",
       "    <tr>\n",
       "      <th>3</th>\n",
       "      <td>Among Deaths in 2016, a Heavy Toll in Pop Musi...</td>\n",
       "      <td>Death may be the great equalizer, but it isn’t...</td>\n",
       "      <td>New York Times</td>\n",
       "      <td>establishment</td>\n",
       "    </tr>\n",
       "    <tr>\n",
       "      <th>4</th>\n",
       "      <td>Kim Jong-un Says North Korea Is Preparing to T...</td>\n",
       "      <td>SEOUL, South Korea  —   North Korea’s leader, ...</td>\n",
       "      <td>New York Times</td>\n",
       "      <td>establishment</td>\n",
       "    </tr>\n",
       "  </tbody>\n",
       "</table>\n",
       "</div>"
      ],
      "text/plain": [
       "                                               title  \\\n",
       "0  House Republicans Fret About Winning Their Hea...   \n",
       "1  Rift Between Officers and Residents as Killing...   \n",
       "2  Tyrus Wong, ‘Bambi’ Artist Thwarted by Racial ...   \n",
       "3  Among Deaths in 2016, a Heavy Toll in Pop Musi...   \n",
       "4  Kim Jong-un Says North Korea Is Preparing to T...   \n",
       "\n",
       "                                             content          outlet  \\\n",
       "0  WASHINGTON  —   Congressional Republicans have...  New York Times   \n",
       "1  After the bullet shells get counted, the blood...  New York Times   \n",
       "2  When Walt Disney’s “Bambi” opened in 1942, cri...  New York Times   \n",
       "3  Death may be the great equalizer, but it isn’t...  New York Times   \n",
       "4  SEOUL, South Korea  —   North Korea’s leader, ...  New York Times   \n",
       "\n",
       "           label  \n",
       "0  establishment  \n",
       "1  establishment  \n",
       "2  establishment  \n",
       "3  establishment  \n",
       "4  establishment  "
      ]
     },
     "execution_count": 7,
     "metadata": {},
     "output_type": "execute_result"
    }
   ],
   "source": [
    "# Putting DataFrame in proper order\n",
    "articles.rename(columns={'publication':'outlet'}, inplace=True)\n",
    "articles = articles[['title','content','outlet','label']]\n",
    "articles.head()"
   ]
  },
  {
   "cell_type": "code",
   "execution_count": 8,
   "metadata": {},
   "outputs": [
    {
     "data": {
      "image/png": "[encoded data removed]",
      "text/plain": [
       "<Figure size 432x288 with 1 Axes>"
      ]
     },
     "metadata": {
      "needs_background": "light"
     },
     "output_type": "display_data"
    }
   ],
   "source": [
    "sns.countplot(data=articles, y='outlet', color='r');"
   ]
  },
  {
   "cell_type": "code",
   "execution_count": 9,
   "metadata": {},
   "outputs": [
    {
     "data": {
      "image/png": "[encoded data removed]",
      "text/plain": [
       "<Figure size 432x288 with 1 Axes>"
      ]
     },
     "metadata": {
      "needs_background": "light"
     },
     "output_type": "display_data"
    }
   ],
   "source": [
    "sns.countplot(data=articles, y='label', color='r');"
   ]
  },
  {
   "cell_type": "code",
   "execution_count": 11,
   "metadata": {},
   "outputs": [],
   "source": [
    "# Importing fake news data from Megan Risdal's \"Getting Real about Fake News\"\n",
    "fakes = pd.read_csv('./data/source_data/fake.csv')"
   ]
  },
  {
   "cell_type": "code",
   "execution_count": 12,
   "metadata": {},
   "outputs": [],
   "source": [
    "# Dropping unnecessary columns\n",
    "fakes.drop(columns=['uuid', 'ord_in_thread', 'author', 'published',\n",
    "       'language', 'crawled', 'country', 'domain_rank',\n",
    "       'thread_title', 'spam_score', 'main_img_url', 'replies_count',\n",
    "       'participants_count', 'likes', 'comments', 'shares', 'type'], inplace=True)"
   ]
  },
  {
   "cell_type": "code",
   "execution_count": 13,
   "metadata": {},
   "outputs": [],
   "source": [
    "# Renaming columns to align with articles DataFrame\n",
    "fakes.rename(columns={'site_url':'outlet', 'text':'content'}, inplace=True)"
   ]
  },
  {
   "cell_type": "code",
   "execution_count": 14,
   "metadata": {},
   "outputs": [],
   "source": [
    "# Creating a label for fake news\n",
    "fakes['label'] = 'fake'"
   ]
  },
  {
   "cell_type": "code",
   "execution_count": 15,
   "metadata": {},
   "outputs": [],
   "source": [
    "# Dropping NaNs for fake news DataFrame\n",
    "fakes.dropna(inplace=True)"
   ]
  },
  {
   "cell_type": "code",
   "execution_count": 26,
   "metadata": {},
   "outputs": [
    {
     "data": {
      "text/plain": [
       "(98089, 4)"
      ]
     },
     "execution_count": 26,
     "metadata": {},
     "output_type": "execute_result"
    }
   ],
   "source": [
    "# Creating master DataFrame, resetting index\n",
    "df = articles.append(fakes)\n",
    "df.reset_index(drop=True, inplace=True)\n",
    "df.shape"
   ]
  },
  {
   "cell_type": "code",
   "execution_count": 28,
   "metadata": {},
   "outputs": [],
   "source": [
    "# Removing outlet names from titles, otherwise predictions would be trivial\n",
    "# (e.g., New York Times article titles have this form:\n",
    "# \"Example Aritcle Title - The New York Times\")\n",
    "\n",
    "df['title'] = [i.split(' -')[0] for i in df['title']]"
   ]
  },
  {
   "cell_type": "code",
   "execution_count": 29,
   "metadata": {},
   "outputs": [],
   "source": [
    "# Removing outlet names from CNN article bodies, otherwise predictions would be trivial\n",
    "# (e.g., CNN article bodies have this form:\n",
    "# \"Istanbul (CNN) At least 39 people were killed...\")\n",
    "\n",
    "df['content'] = [i.split('(CNN)')[-1] for i in df['content']]"
   ]
  },
  {
   "cell_type": "code",
   "execution_count": 31,
   "metadata": {},
   "outputs": [
    {
     "data": {
      "image/png": "[encoded data removed]",
      "text/plain": [
       "<Figure size 432x288 with 1 Axes>"
      ]
     },
     "metadata": {
      "needs_background": "light"
     },
     "output_type": "display_data"
    }
   ],
   "source": [
    "sns.countplot(data=df, y='label', color='r');"
   ]
  },
  {
   "cell_type": "markdown",
   "metadata": {},
   "source": [
    "## Creating title and body DataFrames for multiclass classification\n",
    "#### Predicting source bias from text using Count Vectorizer/TF-IDF  and Logistic Regression:\n",
    "| Label         | Outlets                                       | len(title_df)| len(body_df)|\n",
    "|:--------------|:---------------------------------------------:|:------------:|:-----------:|\n",
    "| Establishment | New York Times \\| Washington Post \\| CNN      | 1500         | 150         |\n",
    "| Rightwing     | Fox News \\| National Review \\| Breitbart      | 1500         | 150         |\n",
    "| Leftwing      | Guardian \\| Atlantic \\| Talking Points Memo   | 1500         | 150         |\n",
    "| Fake          | 241 online publications* (e.g., InfoWars)     | 1500         | 150         |\n",
    "\n",
    "\\* Fake news online publications identified by XYZ, courtesy of Megan Risdal's \"Getting Real about Fake News\" (https://www.kaggle.com/mrisdal/fake-news)"
   ]
  },
  {
   "cell_type": "code",
   "execution_count": 32,
   "metadata": {},
   "outputs": [],
   "source": [
    "np.random.seed(42)\n",
    "\n",
    "# Creating mini DataFrames (n=1500 per category) for title text\n",
    "est_titles = pd.DataFrame(np.random.choice(df[df['label']=='establishment']['title'], 1500))\n",
    "right_titles = pd.DataFrame(np.random.choice(df[df['label']=='rightwing']['title'], 1500))\n",
    "left_titles = pd.DataFrame(np.random.choice(df[df['label']=='leftwing']['title'], 1500))\n",
    "fake_titles = pd.DataFrame(np.random.choice(df[df['label']=='fake']['title'], 1500))\n",
    "\n",
    "# Restoring the labels that had been removed for np.random.choice\n",
    "# Label mapping: establishment: 1 | rightwing: 2 | leftwing: 3 | Fake: 4\n",
    "est_titles['label'] = 1\n",
    "right_titles['label'] = 2\n",
    "left_titles['label'] = 3\n",
    "fake_titles['label'] = 4\n",
    "\n",
    "\n",
    "# Assembling DataFrame for analyzing titles\n",
    "title_df = est_titles.append([right_titles,\n",
    "                              left_titles,\n",
    "                              fake_titles])\n",
    "\n",
    "# Resetting index\n",
    "title_df.reset_index(drop=True, inplace=True)\n",
    "\n",
    "# Exporting to .csv\n",
    "title_df.to_csv('./data/prediction_data/title_data.csv', index=False)"
   ]
  },
  {
   "cell_type": "code",
   "execution_count": 33,
   "metadata": {},
   "outputs": [],
   "source": [
    "np.random.seed(42)\n",
    "\n",
    "# Creating mini DataFrames (n=150 per category) for body text\n",
    "est_body = pd.DataFrame(np.random.choice(df[df['label']=='establishment']['content'], 150))\n",
    "right_body = pd.DataFrame(np.random.choice(df[df['label']=='rightwing']['content'], 150))\n",
    "left_body = pd.DataFrame(np.random.choice(df[df['label']=='leftwing']['content'], 150))\n",
    "fake_body = pd.DataFrame(np.random.choice(df[df['label']=='fake']['content'], 150))\n",
    "\n",
    "# Restoring the labels that had been removed for np.random.choice\n",
    "# Label mapping: establishment=1 | rightwing=2 | leftwing=3 | fake=4\n",
    "est_body['label'] = 1\n",
    "right_body['label'] = 2\n",
    "left_body['label'] = 3\n",
    "fake_body['label'] = 4\n",
    "\n",
    "# Assembling DataFrame\n",
    "body_df = est_body.append([right_body,\n",
    "                           left_body,\n",
    "                           fake_body])\n",
    "# Resetting index\n",
    "body_df.reset_index(drop=True, inplace=True)\n",
    "\n",
    "# Exporting to .csv\n",
    "body_df.to_csv('./data/prediction_data/body_data.csv', index=False)"
   ]
  },
  {
   "cell_type": "markdown",
   "metadata": {},
   "source": [
    "## Creating title and body DataFrames for binary classification:\n",
    " \n",
    "#### Classifying real news and fake news using Count Vectorizer/TF-IDF and Logistic Regression\n",
    "\n",
    "| Classification | Labels included                    | len(titles_df) | len(bodies_df) | \n",
    "|:---------------|:----------------------------------:|:--------------:|:--------------:|\n",
    "| Real           | Establishment<br> Rightwing<br> Leftwing | 3000           | 300            |\n",
    "| Fake           | Fake                               | 3000           | 300            |"
   ]
  },
  {
   "cell_type": "code",
   "execution_count": 34,
   "metadata": {},
   "outputs": [],
   "source": [
    "np.random.seed(42)\n",
    "\n",
    "# Creating mini DataFrames for title text\n",
    "est_title_bc = pd.DataFrame(np.random.choice(df[df['label']=='establishment']['title'], 1000))\n",
    "right_title_bc = pd.DataFrame(np.random.choice(df[df['label']=='rightwing']['title'], 1000))\n",
    "left_title_bc = pd.DataFrame(np.random.choice(df[df['label']=='leftwing']['title'], 1000))\n",
    "fake_title_bc = pd.DataFrame(np.random.choice(df[df['label']=='fake']['title'], 3000))\n",
    "\n",
    "# Restoring labels that had been removed for np.random.choice\n",
    "# Label mapping: real=0 | fake=1\n",
    "est_title_bc['label'] = 0\n",
    "right_title_bc['label'] = 0\n",
    "left_title_bc['label'] = 0\n",
    "fake_title_bc['label'] = 1\n",
    "\n",
    "# Assembling DataFrame\n",
    "binary_title_df = est_title_bc.append([right_title_bc,\n",
    "                                left_title_bc,\n",
    "                                fake_title_bc])\n",
    "# Resetting index\n",
    "binary_title_df.reset_index(drop=True, inplace=True)\n",
    "\n",
    "# Exporting to .csv\n",
    "binary_title_df.to_csv('./data/prediction_data/binary_title_df.csv', index=False)"
   ]
  },
  {
   "cell_type": "code",
   "execution_count": 35,
   "metadata": {},
   "outputs": [],
   "source": [
    "np.random.seed(42)\n",
    "\n",
    "# Creating mini DataFrames for body text\n",
    "est_body_bc = pd.DataFrame(np.random.choice(df[df['label']=='establishment']['content'], 100))\n",
    "right_body_bc = pd.DataFrame(np.random.choice(df[df['label']=='rightwing']['content'], 100))\n",
    "left_body_bc = pd.DataFrame(np.random.choice(df[df['label']=='leftwing']['content'], 100))\n",
    "fake_body_bc = pd.DataFrame(np.random.choice(df[df['label']=='fake']['content'], 300))\n",
    "\n",
    "# Restoring labels that had been removed for np.random.choice\n",
    "# Label mapping: real=0 | fake=1\n",
    "est_body_bc['label'] = 0\n",
    "right_body_bc['label'] = 0\n",
    "left_body_bc['label'] = 0\n",
    "fake_body_bc['label'] = 1\n",
    "\n",
    "# Assembling DataFrame\n",
    "binary_body_df = est_body_bc.append([right_body_bc,\n",
    "                                     left_body_bc,\n",
    "                                     fake_body_bc])\n",
    "# Resetting index\n",
    "binary_body_df.reset_index(drop=True, inplace=True)\n",
    "\n",
    "# Exporting to .csv\n",
    "binary_body_df.to_csv('./data/prediction_data/binary_body_df.csv', index=False)"
   ]
  },
  {
   "cell_type": "markdown",
   "metadata": {},
   "source": [
    "## Creating DataFrames of article bodies for Word2Vec analysis\n",
    "#### Corpora of article bodies for each label, and one aggregate of 'real news' sources\n",
    "\n",
    "| Classification | Labels included                    | len(bodies_df) |\n",
    "|:---------------|:----------------------------------:|:--------------:|\n",
    "| Real           | Establishment, Rightwing, Leftwing | 9000           |\n",
    "| Fake           | Fake                               | 9000           |\n",
    "| Establishment  | Establishment                      | 9000           |\n",
    "| Rightwing      | Rightwing                          | 9000           |\n",
    "| Leftwing       | Leftwing                           | 9000           |"
   ]
  },
  {
   "cell_type": "code",
   "execution_count": 36,
   "metadata": {},
   "outputs": [],
   "source": [
    "np.random.seed(42)\n",
    "\n",
    "# —REAL NEWS—\n",
    "# Randomly selecting 'real news' article bodies for Word2Vec (9000)\n",
    "mini_est_wordvec = pd.DataFrame(np.random.choice(df[df['label']=='establishment']['content'],\n",
    "                                                 3000))\n",
    "mini_right_wordvec = pd.DataFrame(np.random.choice(df[df['label']=='rightwing']['content'],\n",
    "                                                   3000))\n",
    "mini_left_wordvec = pd.DataFrame(np.random.choice(df[df['label']=='leftwing']['content'],\n",
    "                                                  3000))\n",
    "# Assembling corpus for 'real news' article bodies\n",
    "real_wordvec = mini_est_wordvec.append([mini_right_wordvec,\n",
    "                                        mini_left_wordvec])\n",
    "# Resetting index\n",
    "real_wordvec.reset_index(drop=True, inplace=True)\n",
    "# Exporting to .csv\n",
    "real_wordvec.to_csv('./data/wordvec_data/real_wordvec.csv', index=False)\n",
    "\n",
    "\n",
    "# —FAKE NEWS—\n",
    "# Randomly selecting 'fake news' article bodies for Word2Vec (9000)\n",
    "fake_wordvec = pd.DataFrame(np.random.choice(df[df['label']=='fake']['content'], 9000))\n",
    "# Exporting to .csv\n",
    "fake_wordvec.to_csv('./data/wordvec_data/fake_wordvec.csv', index=False)\n",
    "\n",
    "\n",
    "# —ESTABLISHMENT—\n",
    "# Randomly selecting 'establishment' article bodies for Word2Vec (9000)\n",
    "est_wordvec = pd.DataFrame(np.random.choice(df[df['label']=='establishment']['content'], 9000))\n",
    "# Exporting to .csv\n",
    "est_wordvec.to_csv('./data/wordvec_data/est_wordvec.csv', index=False)\n",
    "\n",
    "\n",
    "# —RIGHTWING—\n",
    "# Randomly selecting 'rightwing' article bodies for Word2Vec (9000)\n",
    "right_wordvec = pd.DataFrame(np.random.choice(df[df['label']=='rightwing']['content'], 9000))\n",
    "# Exporting to .csv\n",
    "right_wordvec.to_csv('./data/wordvec_data/right_wordvec.csv', index=False)\n",
    "\n",
    "\n",
    "# —LEFTWING—\n",
    "# Randomly selecting 'leftwing' article bodies for Word2Vec (9000)\n",
    "left_wordvec = pd.DataFrame(np.random.choice(df[df['label']=='leftwing']['content'], 9000))\n",
    "# Exporting to .csv\n",
    "left_wordvec.to_csv('./data/wordvec_data/left_wordvec.csv', index=False)"
   ]
  }
 ],
 "metadata": {
  "kernelspec": {
   "display_name": "Python 3",
   "language": "python",
   "name": "python3"
  },
  "language_info": {
   "codemirror_mode": {
    "name": "ipython",
    "version": 3
   },
   "file_extension": ".py",
   "mimetype": "text/x-python",
   "name": "python",
   "nbconvert_exporter": "python",
   "pygments_lexer": "ipython3",
   "version": "3.6.8"
  }
 },
 "nbformat": 4,
 "nbformat_minor": 2
}
